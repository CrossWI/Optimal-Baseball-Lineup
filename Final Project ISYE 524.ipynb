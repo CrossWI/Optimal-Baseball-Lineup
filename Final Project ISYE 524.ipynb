{
 "cells": [
  {
   "cell_type": "markdown",
   "metadata": {},
   "source": [
    "## Creating the Optimal Baseball Lineup\n",
    "### Cameron Cross\n",
    "### ISYE 524"
   ]
  },
  {
   "cell_type": "markdown",
   "metadata": {},
   "source": [
    "The long accepted approach to building a batting order is the batting order strategy that most teams below the professional level still follow. The leadoff batter is the fastest player on the team, the fourth hitter, also known as the clean-up hitter, is the most powerful hitter on the team, and last batter is the worst hitter on the team. The entire lineup is as follows:\n",
    "\n",
    "**-------------------------------------------------------------------------------------------------**\n",
    "\n",
    "**1:** The fastest player on the team <br>\n",
    "\n",
    "**2:** The player with the best bat control. Likely not the best player, but will make consistant contact to move the leadoff baserunner over <br>\n",
    "\n",
    "**3:** The best overall hitter on the team, boasting the highest batting average and likely having a lot of RBIs <br>\n",
    "\n",
    "**4:** This is the most powerful hitter on the team. This player's slugging ability is more important than their ability to get on base or make consistant contact <br>\n",
    "\n",
    "**5:** A good hitter with strong RBI numbers <br>\n",
    "\n",
    "**6:** An average hitter with reasonable RBI numbers <br>\n",
    "\n",
    "**7:** An average hitter and often the weakest baserunner on the team <br>\n",
    "\n",
    "**8:** This is the backup for 2nd in the order. An average hitter with the ability to make contact consistantly<br>\n",
    "\n",
    "**9:** The worst hitter on the team <br>\n",
    "\n",
    "**-------------------------------------------------------------------------------------------------**\n",
    "\n",
    "For the majority of baseball’s history, every level of baseball used this theology to construct “optimized” batting lineups. In recent years however, the approach to making lineups is completely different. Advanced statistics and sabermetrics have optimized lineups in a vastly different way. These lineups utilize OBP (on base percentage), wRC+ (weighted runs created plus), SLG% (slugging percentage), ISO (extra-base hit average), among other statistics to create a lineup. Sabermetrics have been pivitol in finding important lineup positions that were thought to be useless before (ex: 2nd in lineup). The new guidelines for lineup creation are as follows:\n",
    "\n",
    "**-------------------------------------------------------------------------------------------------**\n",
    "\n",
    "**1:** The highest OBP on team. Speed is a plus, but OBP matters much more (5th best overall hitter) <br>\n",
    "\n",
    "**2:** The highest wRC+ on team with a very high OBP (Best overall hitter) <br>\n",
    "\n",
    "**3:** High wRC+, but less important than 5th in the lineup (4th best overall hitter) <br>\n",
    "\n",
    "**4:** Very high SLG%, HR, and ISO (2nd best overall hitter) <br>\n",
    "\n",
    "**5:** High wRC+ and high SLG% (3rd best overall hitter) <br>\n",
    "\n",
    "**6:** High OBP and strong SB numbers (6th best overall hitter) <br>\n",
    "\n",
    "**7:** Average overall hitter (7th best overall hitter) <br>\n",
    "\n",
    "**8:** Average overall hitter (8th best overall hitter) <br>\n",
    "\n",
    "**9:** Worst hitter on the team (Worst overall hitter) <br>\n",
    "\n",
    "**-------------------------------------------------------------------------------------------------**\n",
    "\n",
    "I will use these new guidelines for constructing a lineup to find the optimized lineup for the entirety of the MLB, and for my favorite team, the Detroit Tigers for the 2019 season. I will use www.baseball-reference.com for my 2019 player data sets. I used R Studio to add two addition columns (wOBA and wRC+) to the csv files as well as filter players with less than 200 plate appearances in 2019. This is to ensure that the players have enough data in the season to avoid inflated statistics. wOBA is the weighted on base average, calculated using \n",
    "\n",
    "$$wOBA = (0.690*uBB + 0.719*HBP + 0.850*1B + 1.217*2B + 1.529*3B + 1.940*HR) / (AB + BB - IBB + SF + HBP)$$\n",
    "\n",
    "The coefficients are weights calculated by baseball statisticians for the 2019 MLB season to normalize the wOBA to be consistant every year.\n",
    "\n",
    "wRC+, or weighted runs created plus, is the best statistic to measure a player's total offensive value. This statistic is heavily used in my creation of the optimized lineups.\n",
    "\n",
    "$$wRC+ = (((wOBA - League wOBA)/wOBA Scale) + League R/PA) + (League R/PA – Park Factor * League R/PA)) / (AL or NL wRC/PA excluding pitchers) * 100$$\n",
    "\n",
    "Unlike wRC, wRC+ utilized a park factor to control the park effects. This is important because the MLB fields are not standardized, so depending on where the player plays could determine how well they perform. The park factor removes the advantages of some parks and the disadvantages of other parks from the equation.\n",
    "\n",
    "The values for the wOBA scale, league R/PA, park factor , wRC/PA, and the wOBA weights were all found on https://library.fangraphs.com.\n",
    "\n",
    "In order to find the optimal lineup, I will first find the best player at each position. To do this, I will assume that wRC+ is the best measurement of the hitter's value, using a mathematical model to pick the positional players with the highest wRC+ at each position (C, 1B, 2B, 3B, SS, LF, CF, RF, DH). After this, I will apply the sabermetric guidelines for creating a lineup to order the best positional players in an optimal way. I will also assume that defensive skill is not valued and only offensive output is important. This is to avoid complicated situations of a defensive superstar with average hitting statisitcs playing over an above average hitter. Additionally, I will assume that pitchers will not hit, thus allowing there to be a designated hitter, DH, in their absence in the lineup.\n",
    "\n",
    "Lastly, I will assume that positions outside the standard eight positions will fit into one of those positions. Utility players (can play many positions) will be included in the sets for second basemen, shortstops, left fielders, center fielders, and right fielders. Middle infielders (play SS or 2B) will be included in the sets for second basemen and shortstops. Corner infielders (play 1B or 3B) will be included in the sets for first basemen and third basemen. Outfielders, or OF, (play LF, CF, RF) will be included in the sets for left fielders, center fielders, and right fielders. "
   ]
  },
  {
   "cell_type": "markdown",
   "metadata": {},
   "source": [
    "### Mathematical Model\n",
    "\n",
    "First, there are several sets to be used in the model.\n",
    "\n",
    "**P** is the set of all MLB players <br>\n",
    "\n",
    "**C** is the set of all catchers <br>\n",
    "\n",
    "**F** is the set of all first basemen <br>\n",
    "\n",
    "**S** is the set of all second basemen <br>\n",
    "\n",
    "**T** is the set of all third basemen <br>\n",
    "\n",
    "**X** is the set of all short stops <br>\n",
    "\n",
    "**L** is the set of all left fielders <br>\n",
    "\n",
    "**F** is the set of all center fielders <br>\n",
    "\n",
    "**R** is the set of all right fielders <br>\n",
    "\n",
    "**D** is the set of all designated hitters <br>\n",
    "\n",
    "---------------------------------------------------------\n",
    "\n",
    "There are two variable being used.\n",
    "\n",
    "$$w_i$$ is the wRC+ for player i\n",
    "\n",
    "$$β_i$$ is the decision variable,\n",
    "\n",
    "β_i is defined as 1 if player i is selected and 0 otherwise. Let $$β = (β_1, ... , β_n)$$\n",
    "\n",
    "The optimal selection of eight positional players and one designated hitter is found by finding β such that the total wRC+ of the team is maximaized.\n",
    "\n",
    "$$\\sum\\limits_{i=1}^P w_i * β_i$$\n",
    "\n",
    "Subject to the constraints:\n",
    "\n",
    "Catcher requirement (can only have one catcher in the lineup): \n",
    "$$\\sum\\limits_{i=1}^C β_i = 1$$\n",
    "First baseman requirement (can only have one first baseman in the lineup): \n",
    "$$\\sum\\limits_{i=1}^F β_i = 1$$\n",
    "Second baseman requirement (can only have one second baseman in the lineup): \n",
    "$$\\sum\\limits_{i=1}^S β_i = 1$$\n",
    "Third baseman requirement (can only have one third baseman in the lineup): \n",
    "$$\\sum\\limits_{i=1}^T β_i = 1$$\n",
    "Short stop requirement: (can only have one short stop in the lineup):\n",
    "$$\\sum\\limits_{i=1}^X β_i = 1$$\n",
    "Left field requirement (can only have one left fielder in the lineup):\n",
    "$$\\sum\\limits_{i=1}^L β_i = 1$$\n",
    "Center field requirement (can only have one center fielder in the lineup):\n",
    "$$\\sum\\limits_{i=1}^F β_i = 1$$\n",
    "Right field requirement (can only have one right fielder in the lineup): \n",
    "$$\\sum\\limits_{i=1}^R β_i = 1$$\n",
    "Designated hitter requirement (can only have one designated hitter in the lineup):\n",
    "$$\\sum\\limits_{i=1}^D β_i = 1$$\n",
    "Lineup limit (the lineup consists of nine players):\n",
    "$$\\sum\\limits_{i=1}^P β_i = 9$$\n",
    "Binary Choice (the decision variable is either a 1 or 0 at i):\n",
    "$$β_i∈{0,1}$$\n",
    "\n",
    "The constraints are important to ensure that only one player from each position is selected. Without these constraints, the team could be filled with players all playing out of position.\n",
    "\n",
    "This problem is an pure integer programming problem. This is because the decision variable must be an integer because it represents the selection of a player and you can not select a fraction of a player. All of the constraints and the objective function are linear, showing that this is a linear approach to an integer programming problem. It is not a mixed integer programming problem becuase MIP problems have only some variables that are constrained to being integers."
   ]
  },
  {
   "cell_type": "code",
   "execution_count": 224,
   "metadata": {},
   "outputs": [
    {
     "data": {
      "text/html": [
       "<table class=\"data-frame\"><thead><tr><th></th><th>Rk</th><th>Pos</th><th>Name</th><th>Age</th><th>G</th><th>PA</th><th>AB</th><th>R</th><th>H</th><th>X2B</th></tr><tr><th></th><th>Int64</th><th>String</th><th>String</th><th>Int64</th><th>Int64</th><th>Int64</th><th>Int64</th><th>Int64</th><th>Int64</th><th>Int64</th></tr></thead><tbody><p>15 rows × 30 columns (omitted printing of 20 columns)</p><tr><th>1</th><td>1</td><td>C</td><td>Grayson Greiner</td><td>26</td><td>58</td><td>224</td><td>208</td><td>18</td><td>42</td><td>5</td></tr><tr><th>2</th><td>2</td><td>1B</td><td>Brandon Dixon</td><td>27</td><td>117</td><td>420</td><td>391</td><td>41</td><td>97</td><td>20</td></tr><tr><th>3</th><td>3</td><td>2B</td><td>Gordon Beckham</td><td>32</td><td>83</td><td>240</td><td>223</td><td>29</td><td>48</td><td>13</td></tr><tr><th>4</th><td>4</td><td>SS</td><td>Jordy Mercer</td><td>32</td><td>74</td><td>271</td><td>256</td><td>24</td><td>69</td><td>16</td></tr><tr><th>5</th><td>5</td><td>3B</td><td>Dawel Lugo</td><td>24</td><td>77</td><td>288</td><td>273</td><td>28</td><td>67</td><td>11</td></tr><tr><th>6</th><td>6</td><td>LF</td><td>Christin Stewart*</td><td>25</td><td>104</td><td>416</td><td>369</td><td>32</td><td>86</td><td>25</td></tr><tr><th>7</th><td>7</td><td>CF</td><td>JaCoby Jones</td><td>27</td><td>88</td><td>333</td><td>298</td><td>39</td><td>70</td><td>19</td></tr><tr><th>8</th><td>8</td><td>RF</td><td>Nicholas Castellanos</td><td>27</td><td>100</td><td>439</td><td>403</td><td>57</td><td>110</td><td>37</td></tr><tr><th>9</th><td>9</td><td>DH</td><td>Miguel Cabrera</td><td>36</td><td>136</td><td>549</td><td>493</td><td>41</td><td>139</td><td>21</td></tr><tr><th>10</th><td>10</td><td>UT</td><td>Niko Goodrum#</td><td>27</td><td>112</td><td>472</td><td>423</td><td>61</td><td>105</td><td>27</td></tr><tr><th>11</th><td>11</td><td>CI</td><td>Jeimer Candelario#</td><td>25</td><td>94</td><td>386</td><td>335</td><td>33</td><td>68</td><td>17</td></tr><tr><th>12</th><td>12</td><td>UT</td><td>Harold Castro*</td><td>25</td><td>97</td><td>369</td><td>354</td><td>30</td><td>103</td><td>10</td></tr><tr><th>13</th><td>13</td><td>UT</td><td>John Hicks</td><td>29</td><td>95</td><td>333</td><td>319</td><td>29</td><td>67</td><td>15</td></tr><tr><th>14</th><td>14</td><td>MI</td><td>Ronny Rodriguez</td><td>27</td><td>84</td><td>294</td><td>276</td><td>29</td><td>61</td><td>12</td></tr><tr><th>15</th><td>15</td><td>OF</td><td>Victor Reyes#</td><td>24</td><td>69</td><td>292</td><td>276</td><td>29</td><td>84</td><td>16</td></tr></tbody></table>"
      ],
      "text/latex": [
       "\\begin{tabular}{r|ccccccccccc}\n",
       "\t& Rk & Pos & Name & Age & G & PA & AB & R & H & X2B & \\\\\n",
       "\t\\hline\n",
       "\t& Int64 & String & String & Int64 & Int64 & Int64 & Int64 & Int64 & Int64 & Int64 & \\\\\n",
       "\t\\hline\n",
       "\t1 & 1 & C & Grayson Greiner & 26 & 58 & 224 & 208 & 18 & 42 & 5 & $\\dots$ \\\\\n",
       "\t2 & 2 & 1B & Brandon Dixon & 27 & 117 & 420 & 391 & 41 & 97 & 20 & $\\dots$ \\\\\n",
       "\t3 & 3 & 2B & Gordon Beckham & 32 & 83 & 240 & 223 & 29 & 48 & 13 & $\\dots$ \\\\\n",
       "\t4 & 4 & SS & Jordy Mercer & 32 & 74 & 271 & 256 & 24 & 69 & 16 & $\\dots$ \\\\\n",
       "\t5 & 5 & 3B & Dawel Lugo & 24 & 77 & 288 & 273 & 28 & 67 & 11 & $\\dots$ \\\\\n",
       "\t6 & 6 & LF & Christin Stewart* & 25 & 104 & 416 & 369 & 32 & 86 & 25 & $\\dots$ \\\\\n",
       "\t7 & 7 & CF & JaCoby Jones & 27 & 88 & 333 & 298 & 39 & 70 & 19 & $\\dots$ \\\\\n",
       "\t8 & 8 & RF & Nicholas Castellanos & 27 & 100 & 439 & 403 & 57 & 110 & 37 & $\\dots$ \\\\\n",
       "\t9 & 9 & DH & Miguel Cabrera & 36 & 136 & 549 & 493 & 41 & 139 & 21 & $\\dots$ \\\\\n",
       "\t10 & 10 & UT & Niko Goodrum\\# & 27 & 112 & 472 & 423 & 61 & 105 & 27 & $\\dots$ \\\\\n",
       "\t11 & 11 & CI & Jeimer Candelario\\# & 25 & 94 & 386 & 335 & 33 & 68 & 17 & $\\dots$ \\\\\n",
       "\t12 & 12 & UT & Harold Castro* & 25 & 97 & 369 & 354 & 30 & 103 & 10 & $\\dots$ \\\\\n",
       "\t13 & 13 & UT & John Hicks & 29 & 95 & 333 & 319 & 29 & 67 & 15 & $\\dots$ \\\\\n",
       "\t14 & 14 & MI & Ronny Rodriguez & 27 & 84 & 294 & 276 & 29 & 61 & 12 & $\\dots$ \\\\\n",
       "\t15 & 15 & OF & Victor Reyes\\# & 24 & 69 & 292 & 276 & 29 & 84 & 16 & $\\dots$ \\\\\n",
       "\\end{tabular}\n"
      ],
      "text/plain": [
       "15×30 DataFrame. Omitted printing of 23 columns\n",
       "│ Row │ Rk    │ Pos    │ Name                 │ Age   │ G     │ PA    │ AB    │\n",
       "│     │ \u001b[90mInt64\u001b[39m │ \u001b[90mString\u001b[39m │ \u001b[90mString\u001b[39m               │ \u001b[90mInt64\u001b[39m │ \u001b[90mInt64\u001b[39m │ \u001b[90mInt64\u001b[39m │ \u001b[90mInt64\u001b[39m │\n",
       "├─────┼───────┼────────┼──────────────────────┼───────┼───────┼───────┼───────┤\n",
       "│ 1   │ 1     │ C      │ Grayson Greiner      │ 26    │ 58    │ 224   │ 208   │\n",
       "│ 2   │ 2     │ 1B     │ Brandon Dixon        │ 27    │ 117   │ 420   │ 391   │\n",
       "│ 3   │ 3     │ 2B     │ Gordon Beckham       │ 32    │ 83    │ 240   │ 223   │\n",
       "│ 4   │ 4     │ SS     │ Jordy Mercer         │ 32    │ 74    │ 271   │ 256   │\n",
       "│ 5   │ 5     │ 3B     │ Dawel Lugo           │ 24    │ 77    │ 288   │ 273   │\n",
       "│ 6   │ 6     │ LF     │ Christin Stewart*    │ 25    │ 104   │ 416   │ 369   │\n",
       "│ 7   │ 7     │ CF     │ JaCoby Jones         │ 27    │ 88    │ 333   │ 298   │\n",
       "│ 8   │ 8     │ RF     │ Nicholas Castellanos │ 27    │ 100   │ 439   │ 403   │\n",
       "│ 9   │ 9     │ DH     │ Miguel Cabrera       │ 36    │ 136   │ 549   │ 493   │\n",
       "│ 10  │ 10    │ UT     │ Niko Goodrum#        │ 27    │ 112   │ 472   │ 423   │\n",
       "│ 11  │ 11    │ CI     │ Jeimer Candelario#   │ 25    │ 94    │ 386   │ 335   │\n",
       "│ 12  │ 12    │ UT     │ Harold Castro*       │ 25    │ 97    │ 369   │ 354   │\n",
       "│ 13  │ 13    │ UT     │ John Hicks           │ 29    │ 95    │ 333   │ 319   │\n",
       "│ 14  │ 14    │ MI     │ Ronny Rodriguez      │ 27    │ 84    │ 294   │ 276   │\n",
       "│ 15  │ 15    │ OF     │ Victor Reyes#        │ 24    │ 69    │ 292   │ 276   │"
      ]
     },
     "execution_count": 224,
     "metadata": {},
     "output_type": "execute_result"
    }
   ],
   "source": [
    "using DataFrames, CSV\n",
    "\n",
    "MLB = DataFrame(CSV.read(\"mlb.csv\",header=true,delim=',')) # MLB data set\n",
    "DET = DataFrame(CSV.read(\"detroit_tigers.csv\",header=true,delim=',')) # Detroit Tigers data set"
   ]
  },
  {
   "cell_type": "markdown",
   "metadata": {},
   "source": [
    "## MLB All-Star Lineup Optimization\n",
    "\n",
    "I am going to find the optimal player at each position from the entire MLB player list, meaning these players are the best of the best for 2019."
   ]
  },
  {
   "cell_type": "code",
   "execution_count": 225,
   "metadata": {},
   "outputs": [
    {
     "name": "stderr",
     "output_type": "stream",
     "text": [
      "┌ Warning: `getindex(df::DataFrame, col_ind::ColumnIndex)` is deprecated, use `df[!, col_ind]` instead.\n",
      "│   caller = top-level scope at In[225]:1\n",
      "└ @ Core In[225]:1\n",
      "┌ Warning: `getindex(df::DataFrame, col_ind::ColumnIndex)` is deprecated, use `df[!, col_ind]` instead.\n",
      "│   caller = top-level scope at In[225]:3\n",
      "└ @ Core In[225]:3\n",
      "┌ Warning: `getindex(df::DataFrame, col_ind::ColumnIndex)` is deprecated, use `df[!, col_ind]` instead.\n",
      "│   caller = top-level scope at In[225]:4\n",
      "└ @ Core In[225]:4\n",
      "┌ Warning: `getindex(df::DataFrame, col_ind::ColumnIndex)` is deprecated, use `df[!, col_ind]` instead.\n",
      "│   caller = top-level scope at In[225]:5\n",
      "└ @ Core In[225]:5\n",
      "┌ Warning: `getindex(df::DataFrame, col_ind::ColumnIndex)` is deprecated, use `df[!, col_ind]` instead.\n",
      "│   caller = top-level scope at In[225]:6\n",
      "└ @ Core In[225]:6\n",
      "┌ Warning: `getindex(df::DataFrame, col_ind::ColumnIndex)` is deprecated, use `df[!, col_ind]` instead.\n",
      "│   caller = top-level scope at In[225]:7\n",
      "└ @ Core In[225]:7\n",
      "┌ Warning: `getindex(df::DataFrame, col_ind::ColumnIndex)` is deprecated, use `df[!, col_ind]` instead.\n",
      "│   caller = top-level scope at In[225]:8\n",
      "└ @ Core In[225]:8\n",
      "┌ Warning: `getindex(df::DataFrame, col_ind::ColumnIndex)` is deprecated, use `df[!, col_ind]` instead.\n",
      "│   caller = top-level scope at In[225]:9\n",
      "└ @ Core In[225]:9\n",
      "┌ Warning: `getindex(df::DataFrame, col_ind::ColumnIndex)` is deprecated, use `df[!, col_ind]` instead.\n",
      "│   caller = top-level scope at In[225]:10\n",
      "└ @ Core In[225]:10\n",
      "┌ Warning: `getindex(df::DataFrame, col_ind::ColumnIndex)` is deprecated, use `df[!, col_ind]` instead.\n",
      "│   caller = top-level scope at In[225]:11\n",
      "└ @ Core In[225]:11\n",
      "┌ Warning: `getindex(df::DataFrame, col_ind::ColumnIndex)` is deprecated, use `df[!, col_ind]` instead.\n",
      "│   caller = top-level scope at In[225]:12\n",
      "└ @ Core In[225]:12\n",
      "┌ Warning: `getindex(df::DataFrame, col_ind::ColumnIndex)` is deprecated, use `df[!, col_ind]` instead.\n",
      "│   caller = top-level scope at In[225]:13\n",
      "└ @ Core In[225]:13\n",
      "┌ Warning: `getindex(df::DataFrame, col_ind::ColumnIndex)` is deprecated, use `df[!, col_ind]` instead.\n",
      "│   caller = top-level scope at In[225]:14\n",
      "└ @ Core In[225]:14\n"
     ]
    },
    {
     "data": {
      "text/html": [
       "<table class=\"data-frame\"><thead><tr><th></th><th>Rk</th><th>Pos</th><th>Name</th><th>Age</th><th>G</th><th>PA</th><th>AB</th><th>R</th><th>H</th><th>X2B</th></tr><tr><th></th><th>Int64</th><th>String</th><th>String</th><th>Int64</th><th>Int64</th><th>Int64</th><th>Int64</th><th>Int64</th><th>Int64</th><th>Int64</th></tr></thead><tbody><p>14 rows × 30 columns (omitted printing of 20 columns)</p><tr><th>1</th><td>34</td><td>DH</td><td>Renato Nunez</td><td>25</td><td>151</td><td>599</td><td>541</td><td>72</td><td>132</td><td>24</td></tr><tr><th>2</th><td>45</td><td>DH</td><td>J.D. Martinez</td><td>31</td><td>146</td><td>657</td><td>575</td><td>98</td><td>175</td><td>33</td></tr><tr><th>3</th><td>66</td><td>DH</td><td>Yonder Alonso*</td><td>32</td><td>67</td><td>251</td><td>219</td><td>23</td><td>39</td><td>6</td></tr><tr><th>4</th><td>113</td><td>DH</td><td>Miguel Cabrera</td><td>36</td><td>136</td><td>549</td><td>493</td><td>41</td><td>139</td><td>21</td></tr><tr><th>5</th><td>128</td><td>DH</td><td>Yordan Alvarez</td><td>22</td><td>87</td><td>369</td><td>313</td><td>58</td><td>98</td><td>26</td></tr><tr><th>6</th><td>139</td><td>DH</td><td>Jorge Soler</td><td>27</td><td>162</td><td>679</td><td>589</td><td>95</td><td>156</td><td>33</td></tr><tr><th>7</th><td>150</td><td>DH</td><td>Shohei Ohtani*</td><td>24</td><td>106</td><td>425</td><td>384</td><td>51</td><td>110</td><td>20</td></tr><tr><th>8</th><td>198</td><td>DH</td><td>Nelson Cruz</td><td>38</td><td>120</td><td>521</td><td>454</td><td>81</td><td>141</td><td>26</td></tr><tr><th>9</th><td>236</td><td>DH</td><td>Khris Davis</td><td>31</td><td>133</td><td>533</td><td>481</td><td>61</td><td>106</td><td>11</td></tr><tr><th>10</th><td>280</td><td>DH</td><td>Daniel Vogelbach*</td><td>26</td><td>144</td><td>558</td><td>462</td><td>73</td><td>96</td><td>17</td></tr><tr><th>11</th><td>314</td><td>DH</td><td>Austin Meadows*</td><td>24</td><td>138</td><td>591</td><td>530</td><td>83</td><td>154</td><td>29</td></tr><tr><th>12</th><td>327</td><td>DH</td><td>Shin-Soo Choo*</td><td>36</td><td>151</td><td>660</td><td>563</td><td>93</td><td>149</td><td>31</td></tr><tr><th>13</th><td>330</td><td>DH</td><td>Hunter Pence</td><td>36</td><td>83</td><td>316</td><td>286</td><td>53</td><td>85</td><td>17</td></tr><tr><th>14</th><td>341</td><td>DH</td><td>Rowdy Tellez*</td><td>24</td><td>111</td><td>409</td><td>370</td><td>49</td><td>84</td><td>19</td></tr></tbody></table>"
      ],
      "text/latex": [
       "\\begin{tabular}{r|ccccccccccc}\n",
       "\t& Rk & Pos & Name & Age & G & PA & AB & R & H & X2B & \\\\\n",
       "\t\\hline\n",
       "\t& Int64 & String & String & Int64 & Int64 & Int64 & Int64 & Int64 & Int64 & Int64 & \\\\\n",
       "\t\\hline\n",
       "\t1 & 34 & DH & Renato Nunez & 25 & 151 & 599 & 541 & 72 & 132 & 24 & $\\dots$ \\\\\n",
       "\t2 & 45 & DH & J.D. Martinez & 31 & 146 & 657 & 575 & 98 & 175 & 33 & $\\dots$ \\\\\n",
       "\t3 & 66 & DH & Yonder Alonso* & 32 & 67 & 251 & 219 & 23 & 39 & 6 & $\\dots$ \\\\\n",
       "\t4 & 113 & DH & Miguel Cabrera & 36 & 136 & 549 & 493 & 41 & 139 & 21 & $\\dots$ \\\\\n",
       "\t5 & 128 & DH & Yordan Alvarez & 22 & 87 & 369 & 313 & 58 & 98 & 26 & $\\dots$ \\\\\n",
       "\t6 & 139 & DH & Jorge Soler & 27 & 162 & 679 & 589 & 95 & 156 & 33 & $\\dots$ \\\\\n",
       "\t7 & 150 & DH & Shohei Ohtani* & 24 & 106 & 425 & 384 & 51 & 110 & 20 & $\\dots$ \\\\\n",
       "\t8 & 198 & DH & Nelson Cruz & 38 & 120 & 521 & 454 & 81 & 141 & 26 & $\\dots$ \\\\\n",
       "\t9 & 236 & DH & Khris Davis & 31 & 133 & 533 & 481 & 61 & 106 & 11 & $\\dots$ \\\\\n",
       "\t10 & 280 & DH & Daniel Vogelbach* & 26 & 144 & 558 & 462 & 73 & 96 & 17 & $\\dots$ \\\\\n",
       "\t11 & 314 & DH & Austin Meadows* & 24 & 138 & 591 & 530 & 83 & 154 & 29 & $\\dots$ \\\\\n",
       "\t12 & 327 & DH & Shin-Soo Choo* & 36 & 151 & 660 & 563 & 93 & 149 & 31 & $\\dots$ \\\\\n",
       "\t13 & 330 & DH & Hunter Pence & 36 & 83 & 316 & 286 & 53 & 85 & 17 & $\\dots$ \\\\\n",
       "\t14 & 341 & DH & Rowdy Tellez* & 24 & 111 & 409 & 370 & 49 & 84 & 19 & $\\dots$ \\\\\n",
       "\\end{tabular}\n"
      ],
      "text/plain": [
       "14×30 DataFrame. Omitted printing of 23 columns\n",
       "│ Row │ Rk    │ Pos    │ Name              │ Age   │ G     │ PA    │ AB    │\n",
       "│     │ \u001b[90mInt64\u001b[39m │ \u001b[90mString\u001b[39m │ \u001b[90mString\u001b[39m            │ \u001b[90mInt64\u001b[39m │ \u001b[90mInt64\u001b[39m │ \u001b[90mInt64\u001b[39m │ \u001b[90mInt64\u001b[39m │\n",
       "├─────┼───────┼────────┼───────────────────┼───────┼───────┼───────┼───────┤\n",
       "│ 1   │ 34    │ DH     │ Renato Nunez      │ 25    │ 151   │ 599   │ 541   │\n",
       "│ 2   │ 45    │ DH     │ J.D. Martinez     │ 31    │ 146   │ 657   │ 575   │\n",
       "│ 3   │ 66    │ DH     │ Yonder Alonso*    │ 32    │ 67    │ 251   │ 219   │\n",
       "│ 4   │ 113   │ DH     │ Miguel Cabrera    │ 36    │ 136   │ 549   │ 493   │\n",
       "│ 5   │ 128   │ DH     │ Yordan Alvarez    │ 22    │ 87    │ 369   │ 313   │\n",
       "│ 6   │ 139   │ DH     │ Jorge Soler       │ 27    │ 162   │ 679   │ 589   │\n",
       "│ 7   │ 150   │ DH     │ Shohei Ohtani*    │ 24    │ 106   │ 425   │ 384   │\n",
       "│ 8   │ 198   │ DH     │ Nelson Cruz       │ 38    │ 120   │ 521   │ 454   │\n",
       "│ 9   │ 236   │ DH     │ Khris Davis       │ 31    │ 133   │ 533   │ 481   │\n",
       "│ 10  │ 280   │ DH     │ Daniel Vogelbach* │ 26    │ 144   │ 558   │ 462   │\n",
       "│ 11  │ 314   │ DH     │ Austin Meadows*   │ 24    │ 138   │ 591   │ 530   │\n",
       "│ 12  │ 327   │ DH     │ Shin-Soo Choo*    │ 36    │ 151   │ 660   │ 563   │\n",
       "│ 13  │ 330   │ DH     │ Hunter Pence      │ 36    │ 83    │ 316   │ 286   │\n",
       "│ 14  │ 341   │ DH     │ Rowdy Tellez*     │ 24    │ 111   │ 409   │ 370   │"
      ]
     },
     "execution_count": 225,
     "metadata": {},
     "output_type": "execute_result"
    }
   ],
   "source": [
    "# position encoding for MLB\n",
    "first_base = MLB[(MLB[:Pos] .== \"1B\"),:]\n",
    "second_base = MLB[(MLB[:Pos] .== \"2B\"),:]\n",
    "third_base = MLB[(MLB[:Pos] .== \"3B\"),:]\n",
    "short_stop = MLB[(MLB[:Pos] .== \"SS\"),:]\n",
    "left_field = MLB[(MLB[:Pos] .== \"LF\"),:]\n",
    "center_field = MLB[(MLB[:Pos] .== \"CF\"),:]\n",
    "right_field = MLB[(MLB[:Pos] .== \"RF\"),:]\n",
    "catcher = MLB[(MLB[:Pos] .== \"C\"),:]\n",
    "outfield = MLB[(MLB[:Pos] .== \"OF\"),:]\n",
    "utility = MLB[(MLB[:Pos] .== \"UT\"),:]\n",
    "corner_infield = MLB[(MLB[:Pos] .== \"CI\"),:]\n",
    "designated_hitter = MLB[(MLB[:Pos] .== \"DH\"),:]\n",
    "middle_infield = MLB[(MLB[:Pos] .== \"MI\"),:]\n",
    "\n",
    "MLB_first_base = vcat(first_base, corner_infield) # all players that can play 1B\n",
    "MLB_second_base = vcat(second_base, utility, middle_infield) # all players that can play 2B\n",
    "MLB_third_base = vcat(third_base, corner_infield) # all players that can play 3B\n",
    "MLB_short_stop = vcat(short_stop, utility, middle_infield) # all players that can play SS\n",
    "MLB_left_field = vcat(left_field, outfield, utility) # all players that can play LF\n",
    "MLB_center_field = vcat(center_field, outfield, utility) # all players that can play CF\n",
    "MLB_right_field = vcat(right_field, outfield, utility) # all players that can play RF\n",
    "MLB_catcher = catcher # all players that can play C\n",
    "MLB_designated_hitter = designated_hitter # all players that can play DH"
   ]
  },
  {
   "cell_type": "code",
   "execution_count": 226,
   "metadata": {},
   "outputs": [
    {
     "name": "stdout",
     "output_type": "stream",
     "text": [
      "Academic license - for non-commercial use only\n",
      "Academic license - for non-commercial use only\n",
      "Gurobi Optimizer version 9.0.2 build v9.0.2rc0 (mac64)\n",
      "Optimize a model with 10 rows, 356 columns and 829 nonzeros\n",
      "Model fingerprint: 0x31d8d818\n",
      "Variable types: 0 continuous, 356 integer (356 binary)\n",
      "Coefficient statistics:\n",
      "  Matrix range     [1e+00, 1e+00]\n",
      "  Objective range  [5e+00, 2e+02]\n",
      "  Bounds range     [0e+00, 0e+00]\n",
      "  RHS range        [1e+00, 9e+00]\n",
      "Found heuristic solution: objective 973.6938561\n",
      "Presolve removed 7 rows and 346 columns\n",
      "Presolve time: 0.00s\n",
      "Presolved: 3 rows, 10 columns, 14 nonzeros\n",
      "Found heuristic solution: objective 1617.8146138\n",
      "Variable types: 0 continuous, 10 integer (10 binary)\n",
      "\n",
      "Root relaxation: cutoff, 1 iterations, 0.00 seconds\n",
      "\n",
      "    Nodes    |    Current Node    |     Objective Bounds      |     Work\n",
      " Expl Unexpl |  Obj  Depth IntInf | Incumbent    BestBd   Gap | It/Node Time\n",
      "\n",
      "     0     0     cutoff    0      1617.81461 1617.81461  0.00%     -    0s\n",
      "\n",
      "Explored 0 nodes (1 simplex iterations) in 0.00 seconds\n",
      "Thread count was 16 (of 16 available processors)\n",
      "\n",
      "Solution count 2: 1617.81 973.694 \n",
      "\n",
      "Optimal solution found (tolerance 1.00e-04)\n",
      "Best objective 1.617814613812e+03, best bound 1.617814613812e+03, gap 0.0000%\n",
      "7\n",
      "16\n",
      "128\n",
      "185\n",
      "249\n",
      "253\n",
      "261\n",
      "294\n",
      "350\n"
     ]
    }
   ],
   "source": [
    "# finding the optimal player at each position for MLB\n",
    "using JuMP, Gurobi\n",
    "\n",
    "m = Model(Gurobi.Optimizer)\n",
    "\n",
    "@variable(m, x[1:size(MLB,1)], Bin) # decision variable\n",
    "\n",
    "@constraint(m, sum(x[i] for i in MLB_first_base[:,1]) == 1) # first basemen constraint\n",
    "@constraint(m, sum(x[i] for i in MLB_second_base[:,1]) == 1) # second basemen constraint\n",
    "@constraint(m, sum(x[i] for i in MLB_third_base[:,1]) == 1) # third basemen constraint\n",
    "@constraint(m, sum(x[i] for i in MLB_short_stop[:,1]) == 1) # short stop constraint\n",
    "@constraint(m, sum(x[i] for i in MLB_left_field[:,1]) == 1) # left field constraint\n",
    "@constraint(m, sum(x[i] for i in MLB_center_field[:,1]) == 1) # center field constraint\n",
    "@constraint(m, sum(x[i] for i in MLB_right_field[:,1]) == 1) # right field constraint\n",
    "@constraint(m, sum(x[i] for i in MLB_catcher[:,1]) == 1) # catcher constraint\n",
    "@constraint(m, sum(x[i] for i in MLB_designated_hitter[:,1]) == 1) # designated hitter constraint\n",
    "@constraint(m, sum(x) == 9) #  maximum number of players in lineup\n",
    "\n",
    "@objective(m, Max, sum(x[i] * MLB[i,30] for i = 1:size(MLB,1))) # maximize total wRC+ for team\n",
    "\n",
    "optimize!(m)\n",
    "\n",
    "# print row numbers for the best players in MLB data set\n",
    "for i = 1:size(MLB,1)\n",
    "    if value(x[i]) == 1\n",
    "        println(i)\n",
    "    end\n",
    "end"
   ]
  },
  {
   "cell_type": "code",
   "execution_count": 227,
   "metadata": {},
   "outputs": [
    {
     "name": "stdout",
     "output_type": "stream",
     "text": [
      "CF\n",
      "Ketel Marte#\n",
      "183.231965606865\n",
      "---\n",
      "2B\n",
      "Ozzie Albies#\n",
      "158.30424275376\n",
      "---\n",
      "DH\n",
      "Yordan Alvarez\n",
      "173.767660804244\n",
      "---\n",
      "RF\n",
      "Christian Yelich*\n",
      "209.640639783374\n",
      "---\n",
      "1B\n",
      "Josh Bell#\n",
      "193.928616208406\n",
      "---\n",
      "LF\n",
      "Bryan Reynolds#\n",
      "175.757912511145\n",
      "---\n",
      "SS\n",
      "Fernando Tatis Jr.\n",
      "190.423443656451\n",
      "---\n",
      "C\n",
      "Stephen Vogt*\n",
      "151.493825636438\n",
      "---\n",
      "3B\n",
      "Anthony Rendon\n",
      "181.266306851699\n",
      "---\n"
     ]
    }
   ],
   "source": [
    "opt = [7,16,128,185,249,253,261,294,350] # optimal rows\n",
    "\n",
    "# print player position, player name, player wRC+\n",
    "for i in 1:9\n",
    "    println(MLB[opt[i],2])\n",
    "    println(MLB[opt[i],3])\n",
    "    println(MLB[opt[i],30])\n",
    "    println(\"---\")\n",
    "end"
   ]
  },
  {
   "cell_type": "markdown",
   "metadata": {},
   "source": [
    "According to our calculations, the optimal positional players for the MLB are as follows:\n",
    "\n",
    "**Catcher:** *Stephen Vogt* (wRC+: 128.47)<br>\n",
    "\n",
    "**First base:** *Josh Bell* (wRC+: 193.93) <br>\n",
    "\n",
    "**Second base:** *Ozzie Albies* (wRC+: 158.30)<br>\n",
    "\n",
    "**Third base:** *Anthony Rendon* (wRC+: 181.27)<br>\n",
    "\n",
    "**Short stop:** *Fernando Tatis Jr.* (wRC+: 190.42) <br>\n",
    "\n",
    "**Left field:** *Bryan Reynolds* (wRC+: 175.76)<br>\n",
    "\n",
    "**Center Field:** *Ketel Marte* (wRC+: 183.23)<br>\n",
    "\n",
    "**Right Field:** *Christian Yelich* (wRC+: 209.64)<br>\n",
    "\n",
    "**Designated Hitter:** *Yordan Alvarez* (wRC+: 173.77) <br>"
   ]
  },
  {
   "cell_type": "markdown",
   "metadata": {},
   "source": [
    "These players show the best player at each position by wRC+ value. From finding the best players in the MLB at each position, we can now find the optimal lineup using these players.\n",
    "\n",
    "In order to create the optimal lineup with the optimal players, we are going to use a sabermetric approach to creating a lineup (as described above)."
   ]
  },
  {
   "cell_type": "markdown",
   "metadata": {},
   "source": [
    "#### 2nd in lineup\n",
    "First, we look at the second spot in the lineup, the place where the player with the highest wRC+ should go. Looking at our wRC+ values for the optimal players, it is clear that Christian Yelich leads the nine hitters with his 209.64 wRC+\n",
    "\n",
    "**1:** <br>\n",
    "\n",
    "**2:** Christian Yelich <br>\n",
    "\n",
    "**3:** <br>\n",
    "\n",
    "**4:** <br>\n",
    "\n",
    "**5:**  <br>\n",
    "\n",
    "**6:** <br>\n",
    "\n",
    "**7:** <br>\n",
    "\n",
    "**8:** <br>\n",
    "\n",
    "**9:**  <br>"
   ]
  },
  {
   "cell_type": "markdown",
   "metadata": {},
   "source": [
    "#### 4th in lineup (\"Cleanup\")\n",
    "\n",
    "This player must be the most powerful player on the team, sporting a high SLG%, HR, and ISO. ISO is an isolated power sabermetric statistic that is equal to (SLG% - AVG). To determine this player, we will find the player with the highest sum of the equation $$(SLG + HR/AB + ISO)$$ I created this equation to give a more equal weight to SLG% and ISO compared to HR, by looking at the amount of HR per at bat. Thus the sum of the three statistics will give each one 1/3 of the total weight."
   ]
  },
  {
   "cell_type": "code",
   "execution_count": 228,
   "metadata": {},
   "outputs": [
    {
     "name": "stdout",
     "output_type": "stream",
     "text": [
      "Ketel Marte#\n",
      "0.9112390158172232\n",
      "---\n",
      "Ozzie Albies#\n",
      "0.7424999999999999\n",
      "---\n",
      "Yordan Alvarez\n",
      "1.083261980830671\n",
      "---\n",
      "Christian Yelich*\n",
      "1.1029795501022495\n",
      "---\n",
      "Josh Bell#\n",
      "0.9312087286527513\n",
      "---\n",
      "Bryan Reynolds#\n",
      "0.7245865580448065\n",
      "---\n",
      "Fernando Tatis Jr.\n",
      "0.9288682634730538\n",
      "---\n",
      "Stephen Vogt*\n",
      "0.7562156862745097\n",
      "---\n",
      "Anthony Rendon\n",
      "0.9393853211009173\n",
      "---\n"
     ]
    }
   ],
   "source": [
    "for i in 1:9\n",
    "    println(MLB[opt[i],3])\n",
    "    println(MLB[opt[i],20] + (MLB[opt[i],12] / MLB[opt[i],7]) + (MLB[opt[i],20] - MLB[opt[i],18]))\n",
    "    println(\"---\")\n",
    "end    "
   ]
  },
  {
   "cell_type": "markdown",
   "metadata": {},
   "source": [
    "Once again, Christian Yelich leads the pack, but he is already in the lineup so we will look to the second highest value. This comes from Yordan Alvarez with his 1.0833.\n",
    "\n",
    "**1:** <br>\n",
    "\n",
    "**2:** Christian Yelich <br>\n",
    "\n",
    "**3:** <br>\n",
    "\n",
    "**4:** Yordan Alvarez<br>\n",
    "\n",
    "**5:**  <br>\n",
    "\n",
    "**6:** <br>\n",
    "\n",
    "**7:** <br>\n",
    "\n",
    "**8:** <br>\n",
    "\n",
    "**9:**  <br>"
   ]
  },
  {
   "cell_type": "markdown",
   "metadata": {},
   "source": [
    "#### 5th in lineup\n",
    "\n",
    "This player is the third best hitter on the team. They bost both a high wRC+ and SLG%. To find this player, we will use the equation $$(wRC+) + (SLG * 229.89)$$ to give roughly equal weight to the two factors. This equation was found by knowing that the average wRC+ is 100, so converting the average SLG% of .435 in 2019 to the wRC+ scale gives this weight."
   ]
  },
  {
   "cell_type": "code",
   "execution_count": 229,
   "metadata": {},
   "outputs": [
    {
     "name": "stdout",
     "output_type": "stream",
     "text": [
      "Ketel Marte#\n",
      "319.326845606865\n",
      "---\n",
      "Ozzie Albies#\n",
      "273.24924275376\n",
      "---\n",
      "Yordan Alvarez\n",
      "324.34561080424396\n",
      "---\n",
      "Christian Yelich*\n",
      "363.896829783374\n",
      "---\n",
      "Josh Bell#\n",
      "324.736026208406\n",
      "---\n",
      "Bryan Reynolds#\n",
      "291.392582511145\n",
      "---\n",
      "Fernando Tatis Jr.\n",
      "326.058543656451\n",
      "---\n",
      "Stephen Vogt*\n",
      "264.13992563643797\n",
      "---\n",
      "Anthony Rendon\n",
      "318.740526851699\n",
      "---\n"
     ]
    }
   ],
   "source": [
    "# print player name and value for equation\n",
    "for i in 1:9\n",
    "    println(MLB[opt[i],3])\n",
    "    println(MLB[opt[i],20] * 229.89 + MLB[opt[i],30])\n",
    "    println(\"---\")\n",
    "end    "
   ]
  },
  {
   "cell_type": "markdown",
   "metadata": {},
   "source": [
    "It is pretty obvious that Christian Yelich had himself a tremendous year, leading once again. Fernando Tatis Jr. comes in second through with his 326.06\n",
    "\n",
    "**1:** <br>\n",
    "\n",
    "**2:** Christian Yelich <br>\n",
    "\n",
    "**3:** <br>\n",
    "\n",
    "**4:** Yordan Alvarez<br>\n",
    "\n",
    "**5:** Fernando Tatis Jr. <br>\n",
    "\n",
    "**6:** <br>\n",
    "\n",
    "**7:** <br>\n",
    "\n",
    "**8:** <br>\n",
    "\n",
    "**9:**  <br>"
   ]
  },
  {
   "cell_type": "markdown",
   "metadata": {},
   "source": [
    "#### 3rd in lineup\n",
    "This is the next best hitter on the team. They must have a high wRC+ meaning they must be a well rounded hitter. To determine the player in this spot, we will find the highest wRC+ of the players not in the lineup."
   ]
  },
  {
   "cell_type": "code",
   "execution_count": 230,
   "metadata": {},
   "outputs": [
    {
     "name": "stdout",
     "output_type": "stream",
     "text": [
      "Ketel Marte#\n",
      "183.231965606865\n",
      "---\n",
      "Ozzie Albies#\n",
      "158.30424275376\n",
      "---\n",
      "Yordan Alvarez\n",
      "173.767660804244\n",
      "---\n",
      "Christian Yelich*\n",
      "209.640639783374\n",
      "---\n",
      "Josh Bell#\n",
      "193.928616208406\n",
      "---\n",
      "Bryan Reynolds#\n",
      "175.757912511145\n",
      "---\n",
      "Fernando Tatis Jr.\n",
      "190.423443656451\n",
      "---\n",
      "Stephen Vogt*\n",
      "151.493825636438\n",
      "---\n",
      "Anthony Rendon\n",
      "181.266306851699\n",
      "---\n"
     ]
    }
   ],
   "source": [
    "for i in 1:9\n",
    "    println(MLB[opt[i],3])\n",
    "    println(MLB[opt[i],30])\n",
    "    println(\"---\")\n",
    "end"
   ]
  },
  {
   "cell_type": "markdown",
   "metadata": {},
   "source": [
    "The highest wRC+ of the remaining players goes to Josh Bell, sporting a 193.93 wRC+ in 2019\n",
    "\n",
    "**1:** <br>\n",
    "\n",
    "**2:** Christian Yelich <br>\n",
    "\n",
    "**3:** Josh Bell <br>\n",
    "\n",
    "**4:** Yordan Alvarez<br>\n",
    "\n",
    "**5:** Fernando Tatis Jr. <br>\n",
    "\n",
    "**6:** <br>\n",
    "\n",
    "**7:** <br>\n",
    "\n",
    "**8:** <br>\n",
    "\n",
    "**9:**  <br>"
   ]
  },
  {
   "cell_type": "markdown",
   "metadata": {},
   "source": [
    "#### 1st in lineup (\"Leadoff\")\n",
    "\n",
    "This player possess the highest OBP on the team. The leadoff hitter must also have some speed. To account for the speed factor, we will use the equation $$OBP + SB / ((SB + CS) * 10)$$ to give some weight to base stealing ability while focusing on OBP"
   ]
  },
  {
   "cell_type": "code",
   "execution_count": 231,
   "metadata": {},
   "outputs": [
    {
     "name": "stdout",
     "output_type": "stream",
     "text": [
      "Ketel Marte#\n",
      "0.4723333333333333\n",
      "---\n",
      "Ozzie Albies#\n",
      "0.43094736842105263\n",
      "---\n",
      "Yordan Alvarez\n",
      "NaN\n",
      "---\n",
      "Christian Yelich*\n",
      "0.52275\n",
      "---\n",
      "Josh Bell#\n",
      "0.367\n",
      "---\n",
      "Bryan Reynolds#\n",
      "0.437\n",
      "---\n",
      "Fernando Tatis Jr.\n",
      "0.45172727272727276\n",
      "---\n",
      "Stephen Vogt*\n",
      "0.389\n",
      "---\n",
      "Anthony Rendon\n",
      "0.4953333333333333\n",
      "---\n"
     ]
    }
   ],
   "source": [
    "for i in 1:9\n",
    "    println(MLB[opt[i],3])\n",
    "    println(MLB[opt[i],19] + MLB[opt[i],14] / ((MLB[opt[i],14] + MLB[opt[i],15]) * 10))\n",
    "    println(\"---\")\n",
    "end"
   ]
  },
  {
   "cell_type": "markdown",
   "metadata": {},
   "source": [
    "It is clear to see that Anthony Rendon leads the remaining players with 0.495\n",
    "\n",
    "**1:** Anthony Rendon <br>\n",
    "\n",
    "**2:** Christian Yelich <br>\n",
    "\n",
    "**3:** Josh Bell <br>\n",
    "\n",
    "**4:** Yordan Alvarez<br>\n",
    "\n",
    "**5:** Fernando Tatis Jr. <br>\n",
    "\n",
    "**6:** <br>\n",
    "\n",
    "**7:** <br>\n",
    "\n",
    "**8:** <br>\n",
    "\n",
    "**9:**  <br>"
   ]
  },
  {
   "cell_type": "markdown",
   "metadata": {},
   "source": [
    "#### 6th in lineup\n",
    "\n",
    "This batting order position has a similar emphasis on OBP and SB except SB matter more in this position compared to leadoff. To account for this, we will tweak the equation to give more weight to SB% (SB / (SB + CS) in the equation, leading to it being: $$OBP + SB/((SB + CS) * 5)$$"
   ]
  },
  {
   "cell_type": "code",
   "execution_count": 232,
   "metadata": {},
   "outputs": [
    {
     "name": "stdout",
     "output_type": "stream",
     "text": [
      "Ketel Marte#\n",
      "0.5556666666666666\n",
      "---\n",
      "Ozzie Albies#\n",
      "0.5098947368421052\n",
      "---\n",
      "Yordan Alvarez\n",
      "NaN\n",
      "---\n",
      "Christian Yelich*\n",
      "0.6165\n",
      "---\n",
      "Josh Bell#\n",
      "0.367\n",
      "---\n",
      "Bryan Reynolds#\n",
      "0.497\n",
      "---\n",
      "Fernando Tatis Jr.\n",
      "0.5244545454545455\n",
      "---\n",
      "Stephen Vogt*\n",
      "0.46399999999999997\n",
      "---\n",
      "Anthony Rendon\n",
      "0.5786666666666667\n",
      "---\n"
     ]
    }
   ],
   "source": [
    "for i in 1:9\n",
    "    println(MLB[opt[i],3])\n",
    "    println(MLB[opt[i],19] + MLB[opt[i],14] / ((MLB[opt[i],14] + MLB[opt[i],15]) * 5))\n",
    "    println(\"---\")\n",
    "end"
   ]
  },
  {
   "cell_type": "markdown",
   "metadata": {},
   "source": [
    "Note that some players have a value of NaN because they never stole a base in 2019 making their SB% (0/0). Of the remaining players, Ketel Marte has the highest value with 0.556 \n",
    "\n",
    "**1:** Anthony Rendon <br>\n",
    "\n",
    "**2:** Christian Yelich <br>\n",
    "\n",
    "**3:** Josh Bell <br>\n",
    "\n",
    "**4:** Yordan Alvarez<br>\n",
    "\n",
    "**5:** Fernando Tatis Jr. <br>\n",
    "\n",
    "**6:** Ketel Marte <br>\n",
    "\n",
    "**7:** <br>\n",
    "\n",
    "**8:** <br>\n",
    "\n",
    "**9:**  <br>"
   ]
  },
  {
   "cell_type": "markdown",
   "metadata": {},
   "source": [
    "#### Remaining places in the lineup\n",
    "\n",
    "For the remained of the lineup, there is no specific statistics that sabermetrics has found to be important for any of these spots. These players just be listed in descending order of \"batter skill\". To do this, we will just list the remaining players in descending order of wRC+, the best statistic to determine a hitter's skill level."
   ]
  },
  {
   "cell_type": "code",
   "execution_count": 233,
   "metadata": {},
   "outputs": [
    {
     "name": "stdout",
     "output_type": "stream",
     "text": [
      "Ketel Marte#\n",
      "183.231965606865\n",
      "---\n",
      "Ozzie Albies#\n",
      "158.30424275376\n",
      "---\n",
      "Yordan Alvarez\n",
      "173.767660804244\n",
      "---\n",
      "Christian Yelich*\n",
      "209.640639783374\n",
      "---\n",
      "Josh Bell#\n",
      "193.928616208406\n",
      "---\n",
      "Bryan Reynolds#\n",
      "175.757912511145\n",
      "---\n",
      "Fernando Tatis Jr.\n",
      "190.423443656451\n",
      "---\n",
      "Stephen Vogt*\n",
      "151.493825636438\n",
      "---\n",
      "Anthony Rendon\n",
      "181.266306851699\n",
      "---\n"
     ]
    }
   ],
   "source": [
    "for i in 1:9\n",
    "    println(MLB[opt[i],3])\n",
    "    println(MLB[opt[i],30])\n",
    "    println(\"---\")\n",
    "end    "
   ]
  },
  {
   "cell_type": "markdown",
   "metadata": {},
   "source": [
    "It can be seen that Bryan Reynolds has the highest wRC+ of the remaining players with 175.76, followed by Ozzie Albies with 158.30, and finally Stephen Vogt with a wRC+ of 151.49.\n",
    "\n",
    "**1:** Anthony Rendon <br>\n",
    "\n",
    "**2:** Christian Yelich <br>\n",
    "\n",
    "**3:** Josh Bell <br>\n",
    "\n",
    "**4:** Yordan Alvarez<br>\n",
    "\n",
    "**5:** Fernando Tatis Jr. <br>\n",
    "\n",
    "**6:** Ketel Marte <br>\n",
    "\n",
    "**7:** Bryan Reynolds <br>\n",
    "\n",
    "**8:** Ozzie Albies <br>\n",
    "\n",
    "**9:** Stephen Vogt <br>\n",
    "\n",
    "This is the optimal lineup for the 2019 MLB season, found by using a mathematical model to find the best player at each position, then using sabermetrics to construct an optimal lineup with these players."
   ]
  },
  {
   "cell_type": "markdown",
   "metadata": {},
   "source": [
    "### Detroit Tigers Lineup Optimization\n",
    "Now let's dive into my favorite MLB team, the Detroit Tigers, to create an optimal lineup that would have hopefully prevented their 114 loss season."
   ]
  },
  {
   "cell_type": "code",
   "execution_count": 234,
   "metadata": {},
   "outputs": [
    {
     "name": "stderr",
     "output_type": "stream",
     "text": [
      "┌ Warning: `getindex(df::DataFrame, col_ind::ColumnIndex)` is deprecated, use `df[!, col_ind]` instead.\n",
      "│   caller = top-level scope at In[234]:1\n",
      "└ @ Core In[234]:1\n",
      "┌ Warning: `getindex(df::DataFrame, col_ind::ColumnIndex)` is deprecated, use `df[!, col_ind]` instead.\n",
      "│   caller = top-level scope at In[234]:3\n",
      "└ @ Core In[234]:3\n",
      "┌ Warning: `getindex(df::DataFrame, col_ind::ColumnIndex)` is deprecated, use `df[!, col_ind]` instead.\n",
      "│   caller = top-level scope at In[234]:4\n",
      "└ @ Core In[234]:4\n",
      "┌ Warning: `getindex(df::DataFrame, col_ind::ColumnIndex)` is deprecated, use `df[!, col_ind]` instead.\n",
      "│   caller = top-level scope at In[234]:5\n",
      "└ @ Core In[234]:5\n",
      "┌ Warning: `getindex(df::DataFrame, col_ind::ColumnIndex)` is deprecated, use `df[!, col_ind]` instead.\n",
      "│   caller = top-level scope at In[234]:6\n",
      "└ @ Core In[234]:6\n",
      "┌ Warning: `getindex(df::DataFrame, col_ind::ColumnIndex)` is deprecated, use `df[!, col_ind]` instead.\n",
      "│   caller = top-level scope at In[234]:7\n",
      "└ @ Core In[234]:7\n",
      "┌ Warning: `getindex(df::DataFrame, col_ind::ColumnIndex)` is deprecated, use `df[!, col_ind]` instead.\n",
      "│   caller = top-level scope at In[234]:8\n",
      "└ @ Core In[234]:8\n",
      "┌ Warning: `getindex(df::DataFrame, col_ind::ColumnIndex)` is deprecated, use `df[!, col_ind]` instead.\n",
      "│   caller = top-level scope at In[234]:9\n",
      "└ @ Core In[234]:9\n",
      "┌ Warning: `getindex(df::DataFrame, col_ind::ColumnIndex)` is deprecated, use `df[!, col_ind]` instead.\n",
      "│   caller = top-level scope at In[234]:10\n",
      "└ @ Core In[234]:10\n",
      "┌ Warning: `getindex(df::DataFrame, col_ind::ColumnIndex)` is deprecated, use `df[!, col_ind]` instead.\n",
      "│   caller = top-level scope at In[234]:11\n",
      "└ @ Core In[234]:11\n",
      "┌ Warning: `getindex(df::DataFrame, col_ind::ColumnIndex)` is deprecated, use `df[!, col_ind]` instead.\n",
      "│   caller = top-level scope at In[234]:12\n",
      "└ @ Core In[234]:12\n",
      "┌ Warning: `getindex(df::DataFrame, col_ind::ColumnIndex)` is deprecated, use `df[!, col_ind]` instead.\n",
      "│   caller = top-level scope at In[234]:13\n",
      "└ @ Core In[234]:13\n",
      "┌ Warning: `getindex(df::DataFrame, col_ind::ColumnIndex)` is deprecated, use `df[!, col_ind]` instead.\n",
      "│   caller = top-level scope at In[234]:14\n",
      "└ @ Core In[234]:14\n"
     ]
    },
    {
     "data": {
      "text/html": [
       "<table class=\"data-frame\"><thead><tr><th></th><th>Rk</th><th>Pos</th><th>Name</th><th>Age</th><th>G</th><th>PA</th><th>AB</th><th>R</th><th>H</th><th>X2B</th></tr><tr><th></th><th>Int64</th><th>String</th><th>String</th><th>Int64</th><th>Int64</th><th>Int64</th><th>Int64</th><th>Int64</th><th>Int64</th><th>Int64</th></tr></thead><tbody><p>1 rows × 30 columns (omitted printing of 20 columns)</p><tr><th>1</th><td>9</td><td>DH</td><td>Miguel Cabrera</td><td>36</td><td>136</td><td>549</td><td>493</td><td>41</td><td>139</td><td>21</td></tr></tbody></table>"
      ],
      "text/latex": [
       "\\begin{tabular}{r|ccccccccccc}\n",
       "\t& Rk & Pos & Name & Age & G & PA & AB & R & H & X2B & \\\\\n",
       "\t\\hline\n",
       "\t& Int64 & String & String & Int64 & Int64 & Int64 & Int64 & Int64 & Int64 & Int64 & \\\\\n",
       "\t\\hline\n",
       "\t1 & 9 & DH & Miguel Cabrera & 36 & 136 & 549 & 493 & 41 & 139 & 21 & $\\dots$ \\\\\n",
       "\\end{tabular}\n"
      ],
      "text/plain": [
       "1×30 DataFrame. Omitted printing of 23 columns\n",
       "│ Row │ Rk    │ Pos    │ Name           │ Age   │ G     │ PA    │ AB    │\n",
       "│     │ \u001b[90mInt64\u001b[39m │ \u001b[90mString\u001b[39m │ \u001b[90mString\u001b[39m         │ \u001b[90mInt64\u001b[39m │ \u001b[90mInt64\u001b[39m │ \u001b[90mInt64\u001b[39m │ \u001b[90mInt64\u001b[39m │\n",
       "├─────┼───────┼────────┼────────────────┼───────┼───────┼───────┼───────┤\n",
       "│ 1   │ 9     │ DH     │ Miguel Cabrera │ 36    │ 136   │ 549   │ 493   │"
      ]
     },
     "execution_count": 234,
     "metadata": {},
     "output_type": "execute_result"
    }
   ],
   "source": [
    "# position encoding for Detroit Tigers\n",
    "first_base = DET[(DET[:Pos] .== \"1B\"),:]\n",
    "second_base = DET[(DET[:Pos] .== \"2B\"),:]\n",
    "third_base = DET[(DET[:Pos] .== \"3B\"),:]\n",
    "short_stop = DET[(DET[:Pos] .== \"SS\"),:]\n",
    "left_field = DET[(DET[:Pos] .== \"LF\"),:]\n",
    "center_field = DET[(DET[:Pos] .== \"CF\"),:]\n",
    "right_field = DET[(DET[:Pos] .== \"RF\"),:]\n",
    "catcher = DET[(DET[:Pos] .== \"C\"),:]\n",
    "outfield = DET[(DET[:Pos] .== \"OF\"),:]\n",
    "utility = DET[(DET[:Pos] .== \"UT\"),:]\n",
    "corner_infield = DET[(DET[:Pos] .== \"CI\"),:]\n",
    "designated_hitter = DET[(DET[:Pos] .== \"DH\"),:]\n",
    "middle_infield = DET[(DET[:Pos] .== \"MI\"),:]\n",
    "\n",
    "DET_first_base = vcat(first_base, corner_infield)  # all players that can play 1B\n",
    "DET_second_base = vcat(second_base, utility, middle_infield) # all players that can play 2B\n",
    "DET_third_base = vcat(third_base, corner_infield) # all players that can play 3B\n",
    "DET_short_stop = vcat(short_stop, utility, middle_infield) # all players that can play SS\n",
    "DET_left_field = vcat(left_field, outfield, utility) # all players that can play LF\n",
    "DET_center_field = vcat(center_field, outfield, utility) # all players that can play CF\n",
    "DET_right_field = vcat(right_field, outfield, utility) # all players that can play RF\n",
    "DET_catcher = catcher # all players that can play C\n",
    "DET_designated_hitter = designated_hitter # all players that can play DH"
   ]
  },
  {
   "cell_type": "code",
   "execution_count": 235,
   "metadata": {},
   "outputs": [
    {
     "name": "stdout",
     "output_type": "stream",
     "text": [
      "Academic license - for non-commercial use only\n",
      "Academic license - for non-commercial use only\n",
      "Gurobi Optimizer version 9.0.2 build v9.0.2rc0 (mac64)\n",
      "Optimize a model with 10 rows, 15 columns and 46 nonzeros\n",
      "Model fingerprint: 0x1e3ea317\n",
      "Variable types: 0 continuous, 15 integer (15 binary)\n",
      "Coefficient statistics:\n",
      "  Matrix range     [1e+00, 1e+00]\n",
      "  Objective range  [4e+01, 1e+02]\n",
      "  Bounds range     [0e+00, 0e+00]\n",
      "  RHS range        [1e+00, 9e+00]\n",
      "Found heuristic solution: objective 718.0169853\n",
      "Presolve removed 10 rows and 15 columns\n",
      "Presolve time: 0.00s\n",
      "Presolve: All rows and columns removed\n",
      "\n",
      "Explored 0 nodes (0 simplex iterations) in 0.00 seconds\n",
      "Thread count was 1 (of 16 available processors)\n",
      "\n",
      "Solution count 1: 718.017 \n",
      "\n",
      "Optimal solution found (tolerance 1.00e-04)\n",
      "Best objective 7.180169853224e+02, best bound 7.180169853224e+02, gap 0.0000%\n",
      "1\n",
      "2\n",
      "3\n",
      "4\n",
      "5\n",
      "6\n",
      "7\n",
      "8\n",
      "9\n"
     ]
    }
   ],
   "source": [
    "# finding the optimal player at each position for the Detroit Tigers\n",
    "using JuMP, Gurobi\n",
    "\n",
    "m = Model(Gurobi.Optimizer)\n",
    "\n",
    "@variable(m, x[1:size(DET,1)], Bin)\n",
    "\n",
    "@constraint(m, sum(x[i] for i in DET_first_base[:,1]) == 1) # first basemen constraint\n",
    "@constraint(m, sum(x[i] for i in DET_second_base[:,1]) == 1) # second basemen constraint\n",
    "@constraint(m, sum(x[i] for i in DET_third_base[:,1]) == 1) # third basemen constraint\n",
    "@constraint(m, sum(x[i] for i in DET_short_stop[:,1]) == 1) # short stop constraint\n",
    "@constraint(m, sum(x[i] for i in DET_left_field[:,1]) == 1) # left field constraint\n",
    "@constraint(m, sum(x[i] for i in DET_center_field[:,1]) == 1) # center field constraint\n",
    "@constraint(m, sum(x[i] for i in DET_right_field[:,1]) == 1) # right field constraint\n",
    "@constraint(m, sum(x[i] for i in DET_catcher[:,1]) == 1) # catcher constraint\n",
    "@constraint(m, sum(x[i] for i in DET_designated_hitter[:,1]) == 1) # designated hitter constraint\n",
    "@constraint(m, sum(x) == 9) #  maximum number of players in lineup\n",
    "\n",
    "@objective(m, Max, sum(x[i] * DET[i,30] for i = 1:size(DET,1))) # Maximize total wRC+ for team\n",
    "\n",
    "optimize!(m)\n",
    "\n",
    "# print row numbers for best players on Tigers\n",
    "for i = 1:size(DET,1)\n",
    "    if value(x[i]) == 1\n",
    "        println(i)\n",
    "    end\n",
    "end"
   ]
  },
  {
   "cell_type": "code",
   "execution_count": 236,
   "metadata": {},
   "outputs": [
    {
     "name": "stdout",
     "output_type": "stream",
     "text": [
      "C\n",
      "Grayson Greiner\n",
      "41.970053765686\n",
      "---\n",
      "1B\n",
      "Brandon Dixon\n",
      "83.3725356653553\n",
      "---\n",
      "2B\n",
      "Gordon Beckham\n",
      "64.1955661032347\n",
      "---\n",
      "SS\n",
      "Jordy Mercer\n",
      "92.3744910893711\n",
      "---\n",
      "3B\n",
      "Dawel Lugo\n",
      "63.7580277836933\n",
      "---\n",
      "LF\n",
      "Christin Stewart*\n",
      "80.4747399884352\n",
      "---\n",
      "CF\n",
      "JaCoby Jones\n",
      "92.1142383770609\n",
      "---\n",
      "RF\n",
      "Nicholas Castellanos\n",
      "103.459398665266\n",
      "---\n",
      "DH\n",
      "Miguel Cabrera\n",
      "96.2979338842693\n",
      "---\n"
     ]
    }
   ],
   "source": [
    "opt = [1,2,3,4,5,6,7,8,9] # optimal rows\n",
    "\n",
    "# print player position, player name, player wRC+\n",
    "for i = 1:9\n",
    "        println(DET[opt[i], 2])\n",
    "        println(DET[opt[i],3])\n",
    "        println(DET[opt[i],30])\n",
    "        println(\"---\")\n",
    "end"
   ]
  },
  {
   "cell_type": "markdown",
   "metadata": {},
   "source": [
    "According to our calculations, the optimal positional players for the Detroit Tigers are as follows:\n",
    "\n",
    "**Catcher:** *Grayson Greiner* (wRC+: 41.97)<br>\n",
    "\n",
    "**First base:** *Brandon Dixon* (wRC+: 83.37) <br>\n",
    "\n",
    "**Second base:** *Gordan Beckham* (wRC+: 64.20)<br>\n",
    "\n",
    "**Third base:** *Dawel Lugo* (wRC+: 63.76)<br>\n",
    "\n",
    "**Short stop:** *Jordy Mercer* (wRC+: 92.37) <br>\n",
    "\n",
    "**Left field:** *Christin Stewart* (wRC+: 80.47)<br>\n",
    "\n",
    "**Center Field:** *JaCoby Jones* (wRC+: 92.11)<br>\n",
    "\n",
    "**Right Field:** *Nicholas Castellanos* (wRC+: 103.46)<br>\n",
    "\n",
    "**Designated Hitter:** *Miguel Cabrera* (wRC+: 96.30) <br>"
   ]
  },
  {
   "cell_type": "markdown",
   "metadata": {},
   "source": [
    "These players show the best player at each position by wRC+ value for the 2019 season. We can use the players we found to create the optimal lineup for the Detroit Tigers.\n",
    "\n",
    "To create the optimal lineup, we will use the same equations and logic that was used to create the \"All-Star\" lineup."
   ]
  },
  {
   "cell_type": "markdown",
   "metadata": {},
   "source": [
    "#### 2nd in lineup\n",
    "It is clear that Nicholas Castellanos leads the Tigers with a wRC+ of 103.46.\n",
    "\n",
    "**1:** <br>\n",
    "\n",
    "**2:** Nicholas Castellanos <br>\n",
    "\n",
    "**3:** <br>\n",
    "\n",
    "**4:** <br>\n",
    "\n",
    "**5:**  <br>\n",
    "\n",
    "**6:** <br>\n",
    "\n",
    "**7:** <br>\n",
    "\n",
    "**8:** <br>\n",
    "\n",
    "**9:**  <br>"
   ]
  },
  {
   "cell_type": "markdown",
   "metadata": {},
   "source": [
    "#### 4th in lineup (\"Cleanup\")"
   ]
  },
  {
   "cell_type": "code",
   "execution_count": 237,
   "metadata": {},
   "outputs": [
    {
     "name": "stdout",
     "output_type": "stream",
     "text": [
      "Grayson Greiner\n",
      "0.43803846153846154\n",
      "---\n",
      "Brandon Dixon\n",
      "0.6603631713554987\n",
      "---\n",
      "Gordon Beckham\n",
      "0.5559058295964125\n",
      "---\n",
      "Jordy Mercer\n",
      "0.64115625\n",
      "---\n",
      "Dawel Lugo\n",
      "0.538978021978022\n",
      "---\n",
      "Christin Stewart*\n",
      "0.57010027100271\n",
      "---\n",
      "JaCoby Jones\n",
      "0.6619127516778524\n",
      "---\n",
      "Nicholas Castellanos\n",
      "0.6782952853598014\n",
      "---\n",
      "Miguel Cabrera\n",
      "0.5383407707910751\n",
      "---\n"
     ]
    }
   ],
   "source": [
    "for i in 1:9\n",
    "    println(DET[opt[i],3])\n",
    "    println(DET[opt[i],20] + (DET[opt[i],12] / DET[opt[i],7]) + (DET[opt[i],20] - DET[opt[i],18]))\n",
    "    println(\"---\")\n",
    "end    "
   ]
  },
  {
   "cell_type": "markdown",
   "metadata": {},
   "source": [
    "JaCoby Jones has the highest value of the remaining players with 0.662\n",
    "\n",
    "**1:** <br>\n",
    "\n",
    "**2:** Nicholas Castellanos <br>\n",
    "\n",
    "**3:** <br>\n",
    "\n",
    "**4:** JaCoby Jones <br>\n",
    "\n",
    "**5:** <br>\n",
    "\n",
    "**6:** <br>\n",
    "\n",
    "**7:** <br>\n",
    "\n",
    "**8:** <br>\n",
    "\n",
    "**9:**  <br>"
   ]
  },
  {
   "cell_type": "markdown",
   "metadata": {},
   "source": [
    "#### 5th in lineup"
   ]
  },
  {
   "cell_type": "code",
   "execution_count": 238,
   "metadata": {},
   "outputs": [
    {
     "name": "stdout",
     "output_type": "stream",
     "text": [
      "Grayson Greiner\n",
      "217.944444641379\n",
      "---\n",
      "Brandon Dixon\n",
      "241.881625883615\n",
      "---\n",
      "Gordon Beckham\n",
      "231.04924704813897\n",
      "---\n",
      "Jordy Mercer\n",
      "215.260405869515\n",
      "---\n",
      "Dawel Lugo\n",
      "222.981923222849\n",
      "---\n",
      "Christin Stewart*\n",
      "223.458019409309\n",
      "---\n",
      "JaCoby Jones\n",
      "282.084665606865\n",
      "---\n",
      "Nicholas Castellanos\n",
      "215.679982974711\n",
      "---\n",
      "Miguel Cabrera\n",
      "177.6286314069825\n",
      "---\n"
     ]
    }
   ],
   "source": [
    "for i in 1:9\n",
    "    println(DET[opt[i],3])\n",
    "    println(DET[opt[i],20] * 229.89 + MLB[opt[i],30])\n",
    "    println(\"---\")\n",
    "end    "
   ]
  },
  {
   "cell_type": "markdown",
   "metadata": {},
   "source": [
    "Brandon Dixon has the highest value of the remaining players with 241.882\n",
    "\n",
    "**1:** <br>\n",
    "\n",
    "**2:** Nicholas Castellanos <br>\n",
    "\n",
    "**3:** <br>\n",
    "\n",
    "**4:** JaCoby Jones <br>\n",
    "\n",
    "**5:** Brandon Dixon <br>\n",
    "\n",
    "**6:** <br>\n",
    "\n",
    "**7:** <br>\n",
    "\n",
    "**8:** <br>\n",
    "\n",
    "**9:**  <br>"
   ]
  },
  {
   "cell_type": "markdown",
   "metadata": {},
   "source": [
    "#### 3rd in lineup"
   ]
  },
  {
   "cell_type": "code",
   "execution_count": 239,
   "metadata": {},
   "outputs": [
    {
     "name": "stdout",
     "output_type": "stream",
     "text": [
      "Grayson Greiner\n",
      "41.970053765686\n",
      "---\n",
      "Brandon Dixon\n",
      "83.3725356653553\n",
      "---\n",
      "Gordon Beckham\n",
      "64.1955661032347\n",
      "---\n",
      "Jordy Mercer\n",
      "92.3744910893711\n",
      "---\n",
      "Dawel Lugo\n",
      "63.7580277836933\n",
      "---\n",
      "Christin Stewart*\n",
      "80.4747399884352\n",
      "---\n",
      "JaCoby Jones\n",
      "92.1142383770609\n",
      "---\n",
      "Nicholas Castellanos\n",
      "103.459398665266\n",
      "---\n",
      "Miguel Cabrera\n",
      "96.2979338842693\n",
      "---\n"
     ]
    }
   ],
   "source": [
    "for i in 1:9\n",
    "    println(DET[opt[i],3])\n",
    "    println(DET[opt[i],30])\n",
    "    println(\"---\")\n",
    "end"
   ]
  },
  {
   "cell_type": "markdown",
   "metadata": {},
   "source": [
    "Of the remaining players, Miguel Cabrera has the highest wRC+ with 96.30\n",
    "\n",
    "**1:** <br>\n",
    "\n",
    "**2:** Nicholas Castellanos <br>\n",
    "\n",
    "**3:** Miguel Cabrera <br>\n",
    "\n",
    "**4:** JaCoby Jones <br>\n",
    "\n",
    "**5:** Brandon Dixon <br>\n",
    "\n",
    "**6:** <br>\n",
    "\n",
    "**7:** <br>\n",
    "\n",
    "**8:** <br>\n",
    "\n",
    "**9:** <br>"
   ]
  },
  {
   "cell_type": "markdown",
   "metadata": {},
   "source": [
    "#### 1st in lineup (\"Leadoff\")"
   ]
  },
  {
   "cell_type": "code",
   "execution_count": 240,
   "metadata": {},
   "outputs": [
    {
     "name": "stdout",
     "output_type": "stream",
     "text": [
      "Grayson Greiner\n",
      "NaN\n",
      "---\n",
      "Brandon Dixon\n",
      "0.3733333333333333\n",
      "---\n",
      "Gordon Beckham\n",
      "0.34600000000000003\n",
      "---\n",
      "Jordy Mercer\n",
      "NaN\n",
      "---\n",
      "Dawel Lugo\n",
      "NaN\n",
      "---\n",
      "Christin Stewart*\n",
      "0.305\n",
      "---\n",
      "JaCoby Jones\n",
      "0.3877777777777778\n",
      "---\n",
      "Nicholas Castellanos\n",
      "0.39466666666666667\n",
      "---\n",
      "Miguel Cabrera\n",
      "NaN\n",
      "---\n"
     ]
    }
   ],
   "source": [
    "for i in 1:9\n",
    "    println(DET[opt[i],3])\n",
    "    println(DET[opt[i],19] + DET[opt[i],14] / ((DET[opt[i],14] + DET[opt[i],15]) * 10))\n",
    "    println(\"---\")\n",
    "end"
   ]
  },
  {
   "cell_type": "markdown",
   "metadata": {},
   "source": [
    "Gordan Beckham has the highest value of the remaining players with 0.346\n",
    "\n",
    "**1:** Gordon Beckham <br>\n",
    "\n",
    "**2:** Nicholas Castellanos <br>\n",
    "\n",
    "**3:** Miguel Cabrera <br>\n",
    "\n",
    "**4:** JaCoby Jones <br>\n",
    "\n",
    "**5:** Brandon Dixon <br>\n",
    "\n",
    "**6:** <br>\n",
    "\n",
    "**7:** <br>\n",
    "\n",
    "**8:** <br>\n",
    "\n",
    "**9:** <br>"
   ]
  },
  {
   "cell_type": "markdown",
   "metadata": {},
   "source": [
    "#### 6th in lineup"
   ]
  },
  {
   "cell_type": "code",
   "execution_count": 241,
   "metadata": {},
   "outputs": [
    {
     "name": "stdout",
     "output_type": "stream",
     "text": [
      "Grayson Greiner\n",
      "NaN\n",
      "---\n",
      "Brandon Dixon\n",
      "0.45666666666666667\n",
      "---\n",
      "Gordon Beckham\n",
      "0.42100000000000004\n",
      "---\n",
      "Jordy Mercer\n",
      "NaN\n",
      "---\n",
      "Dawel Lugo\n",
      "NaN\n",
      "---\n",
      "Christin Stewart*\n",
      "0.305\n",
      "---\n",
      "JaCoby Jones\n",
      "0.46555555555555556\n",
      "---\n",
      "Nicholas Castellanos\n",
      "0.4613333333333334\n",
      "---\n",
      "Miguel Cabrera\n",
      "NaN\n",
      "---\n"
     ]
    }
   ],
   "source": [
    "for i in 1:9\n",
    "    println(DET[opt[i],3])\n",
    "    println(DET[opt[i],19] + (DET[opt[i],14] / ((DET[opt[i],14] + DET[opt[i],15]) * 5)))\n",
    "    println(\"---\")\n",
    "end"
   ]
  },
  {
   "cell_type": "markdown",
   "metadata": {},
   "source": [
    "Because none of the remaining players have any stolen bases, we will just look at OBP."
   ]
  },
  {
   "cell_type": "code",
   "execution_count": 242,
   "metadata": {},
   "outputs": [
    {
     "name": "stdout",
     "output_type": "stream",
     "text": [
      "Grayson Greiner\n",
      "0.251\n",
      "---\n",
      "Brandon Dixon\n",
      "0.29\n",
      "---\n",
      "Gordon Beckham\n",
      "0.271\n",
      "---\n",
      "Jordy Mercer\n",
      "0.31\n",
      "---\n",
      "Dawel Lugo\n",
      "0.271\n",
      "---\n",
      "Christin Stewart*\n",
      "0.305\n",
      "---\n",
      "JaCoby Jones\n",
      "0.31\n",
      "---\n",
      "Nicholas Castellanos\n",
      "0.328\n",
      "---\n",
      "Miguel Cabrera\n",
      "0.346\n",
      "---\n"
     ]
    }
   ],
   "source": [
    "for i in 1:9\n",
    "    println(DET[opt[i],3])\n",
    "    println(DET[opt[i],19])\n",
    "    println(\"---\")\n",
    "end"
   ]
  },
  {
   "cell_type": "markdown",
   "metadata": {},
   "source": [
    "Jordy Mercer leads the remaining players with an OBP of 0.310\n",
    "\n",
    "**1:** Gordon Beckham <br>\n",
    "\n",
    "**2:** Nicholas Castellanos <br>\n",
    "\n",
    "**3:** Miguel Cabrera <br>\n",
    "\n",
    "**4:** JaCoby Jones <br>\n",
    "\n",
    "**5:** Brandon Dixon <br>\n",
    "\n",
    "**6:** Jordy Mercer <br>\n",
    "\n",
    "**7:** <br>\n",
    "\n",
    "**8:** <br>\n",
    "\n",
    "**9:** <br>"
   ]
  },
  {
   "cell_type": "markdown",
   "metadata": {},
   "source": [
    "#### Remaining places in lineup"
   ]
  },
  {
   "cell_type": "code",
   "execution_count": 243,
   "metadata": {},
   "outputs": [
    {
     "name": "stdout",
     "output_type": "stream",
     "text": [
      "Grayson Greiner\n",
      "41.970053765686\n",
      "---\n",
      "Brandon Dixon\n",
      "83.3725356653553\n",
      "---\n",
      "Gordon Beckham\n",
      "64.1955661032347\n",
      "---\n",
      "Jordy Mercer\n",
      "92.3744910893711\n",
      "---\n",
      "Dawel Lugo\n",
      "63.7580277836933\n",
      "---\n",
      "Christin Stewart*\n",
      "80.4747399884352\n",
      "---\n",
      "JaCoby Jones\n",
      "92.1142383770609\n",
      "---\n",
      "Nicholas Castellanos\n",
      "103.459398665266\n",
      "---\n",
      "Miguel Cabrera\n",
      "96.2979338842693\n",
      "---\n"
     ]
    }
   ],
   "source": [
    "for i in 1:9\n",
    "    println(DET[opt[i],3])\n",
    "    println(DET[opt[i],30])\n",
    "    println(\"---\")\n",
    "end"
   ]
  },
  {
   "cell_type": "markdown",
   "metadata": {},
   "source": [
    "Christin Stewart leads with a wRC+ of 80.47, followed by Dawel Lugo with a wRC+ of 63.76, and finally Grayson Greiner with 41.97\n",
    "\n",
    "**1:** Gordon Beckham <br>\n",
    "\n",
    "**2:** Nicholas Castellanos <br>\n",
    "\n",
    "**3:** Miguel Cabrera <br>\n",
    "\n",
    "**4:** JaCoby Jones <br>\n",
    "\n",
    "**5:** Brandon Dixon <br>\n",
    "\n",
    "**6:** Jordy Mercer <br>\n",
    "\n",
    "**7:** Christin Stewart <br>\n",
    "\n",
    "**8:** Dawel Lugo <br>\n",
    "\n",
    "**9:** Grayson Greiner <br>"
   ]
  },
  {
   "cell_type": "markdown",
   "metadata": {},
   "source": [
    "This is the optimal lineup of the 2019 Detroit Tigers"
   ]
  },
  {
   "cell_type": "markdown",
   "metadata": {},
   "source": [
    "### Limitations\n",
    "\n",
    "The first obvious limitation of my model is the assumption that wRC+ is the only deciding factor in selecting a player. While this is the best statistic for determining offensive run creation value, it does not account for defense. While being a good hitter is important, it is also important to be able to defend. By taking a strictly offensive approach, I run the risk of my lineup being unsuccessful in the field and creating more errors which lead to unearned runs.\n",
    "\n",
    "Additionally, assuming my equations calculated to weigh various statistics when determining where to put players in the lineup were correct without extensive testing is a limitation. The equations are approximate in weighing the various values of batting statistics, but I would need to run through many years of data to acquire more exact weights. Because of this, using proven weights instead might alter the decision making process when placing the players in the lineups.\n",
    "\n",
    "Lastly, my model is unable to differentiate between AL and NL teams on its own. This means that it will select a designated hitter even if the game is played at an NL stadium (pitchers must hit in the NL). This would effect the lineups by forcing me to replace one of the players with a pitcher in the lineup."
   ]
  },
  {
   "cell_type": "markdown",
   "metadata": {},
   "source": [
    "### Conclusion"
   ]
  },
  {
   "cell_type": "markdown",
   "metadata": {},
   "source": [
    "In conclusion, I was able to find the best positional players and designated hitter for the entire league and for my favorite team, the Detroit Tigers. This was accomplished using integer programming, using a binomial variable to pick the best player at each position in order to maximize the total wRC+ for the created team.\n",
    "\n",
    "With this data, I used sabermetric analysis of the optimal baseball lineup to construct the best lineups for both the entire league and the Tigers. These lineups are unconventional compared to the general model for lineup creation I am used to in my playing career. \n",
    "\n",
    "These sabermetric optimized lineups are starting to be used more often in the MLB, as wave of younger general managers are leaning on statistics to help win championships.\n",
    "\n",
    "It would be interesting to use this concept of lineup optimization in other sports. Particularly, using sabermetrics and an optimization model to determine the optimal game plan for an NBA team. This would mean finding the correct players to start, as well as factor in load management throughout the game. This would allow NBA teams to find the optimal amount of minutes to play all of their players in order to maximize offensive production."
   ]
  }
 ],
 "metadata": {
  "kernelspec": {
   "display_name": "Julia 1.3.1",
   "language": "julia",
   "name": "julia-1.3"
  },
  "language_info": {
   "file_extension": ".jl",
   "mimetype": "application/julia",
   "name": "julia",
   "version": "1.3.1"
  }
 },
 "nbformat": 4,
 "nbformat_minor": 4
}
